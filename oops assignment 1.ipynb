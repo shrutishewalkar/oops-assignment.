{
 "cells": [
  {
   "cell_type": "markdown",
   "id": "81b88609-113e-478a-8342-8f1406baccd3",
   "metadata": {},
   "source": [
    "Que 1: explain class and objects with ex?"
   ]
  },
  {
   "cell_type": "markdown",
   "id": "473be20a-dc07-4e14-8a4a-a192fbf9f204",
   "metadata": {},
   "source": [
    "Ans:classes are user-defeined data types that act as the blueprient for individual objects,attributes and methods.\n",
    "objects are instances of a class created with specially defined data. objects can correspond to real-world objects or an abstract entity."
   ]
  },
  {
   "cell_type": "code",
   "execution_count": 32,
   "id": "495c8e15-8c00-4d1c-a2af-0892ceadd1e5",
   "metadata": {},
   "outputs": [],
   "source": [
    "class pwskills:\n",
    "    \n",
    "    def __init__(self, phone_number, email_id, student_id ):\n",
    "        \n",
    "        self.phone_number=phone_number\n",
    "        self.email_id=email_id\n",
    "        self.student_id=student_id\n",
    "        \n",
    "    def return_student_details(self):\n",
    "        return self.student_id,self.email_id,self.phone_number"
   ]
  },
  {
   "cell_type": "code",
   "execution_count": 33,
   "id": "0c9b92b1-7c35-4461-8c02-5edd3afce00d",
   "metadata": {},
   "outputs": [],
   "source": [
    "rahul = pwskills(4598776677,\"rahul@gmail.com\",104)"
   ]
  },
  {
   "cell_type": "code",
   "execution_count": 36,
   "id": "33f965ec-420b-454f-ac9a-45dff23e9235",
   "metadata": {},
   "outputs": [
    {
     "data": {
      "text/plain": [
       "(104, 'rahul@gmail.com', 4598776677)"
      ]
     },
     "execution_count": 36,
     "metadata": {},
     "output_type": "execute_result"
    }
   ],
   "source": [
    "rahul.return_student_details()"
   ]
  },
  {
   "cell_type": "code",
   "execution_count": 37,
   "id": "c599b2c3-ead1-44cd-be31-536c97ceea8d",
   "metadata": {},
   "outputs": [
    {
     "data": {
      "text/plain": [
       "'rahul@gmail.com'"
      ]
     },
     "execution_count": 37,
     "metadata": {},
     "output_type": "execute_result"
    }
   ],
   "source": [
    "rahul.email_id"
   ]
  },
  {
   "cell_type": "code",
   "execution_count": 38,
   "id": "e768765b-0ba7-4701-953c-c0899d9f9d87",
   "metadata": {},
   "outputs": [
    {
     "data": {
      "text/plain": [
       "104"
      ]
     },
     "execution_count": 38,
     "metadata": {},
     "output_type": "execute_result"
    }
   ],
   "source": [
    "rahul.student_id"
   ]
  },
  {
   "cell_type": "code",
   "execution_count": null,
   "id": "c8096ece-c2b2-4636-80fc-3f9123de37fd",
   "metadata": {},
   "outputs": [],
   "source": []
  },
  {
   "cell_type": "markdown",
   "id": "65b766e0-f88d-409d-81e4-0361d31b403c",
   "metadata": {},
   "source": [
    "Que2:name the 4 pillars of oops?"
   ]
  },
  {
   "cell_type": "markdown",
   "id": "37770d22-f765-4367-8cb4-0eec084f2cac",
   "metadata": {},
   "source": [
    "1.abstraction\n",
    "2.inheritance\n",
    "3.polymorphism\n",
    "4.encapsulation"
   ]
  },
  {
   "cell_type": "markdown",
   "id": "7808e646-a32d-4632-a638-c2bc27253917",
   "metadata": {},
   "source": [
    "Que3:explain why the __init__()function is used . give ex"
   ]
  },
  {
   "cell_type": "markdown",
   "id": "e4c040a7-9e8c-4930-bf7f-2e4b0b16d2a2",
   "metadata": {},
   "source": [
    "Ans: the __init__method lets the class initilize the objects attributes and serves no other purpose.it is only used within classes\n",
    "ex: class planet:\n",
    "    def__init__(self,name,number):\n",
    "    print(\"i am\", self.name)"
   ]
  },
  {
   "cell_type": "markdown",
   "id": "d8aaef12-3ecd-4575-9008-bde711d85bce",
   "metadata": {},
   "source": [
    "Que 4 : why self is used in oops?"
   ]
  },
  {
   "cell_type": "markdown",
   "id": "55a6fbf3-7e33-4db6-afd8-ca093bd2d88a",
   "metadata": {},
   "source": [
    "Ans: the self variable is used to represent the instance of the class which is ften uesd in oops.it works as a refrence to the object.python uses self parameter to refer to instance attributes and methods of the class"
   ]
  },
  {
   "cell_type": "markdown",
   "id": "f610c8e3-46c6-48e9-a75c-1ff3566ab25a",
   "metadata": {},
   "source": [
    "Que5. what is inheritance ? give ex"
   ]
  },
  {
   "cell_type": "code",
   "execution_count": null,
   "id": "a67c7ada-d10e-47a3-ac8a-c5dbf28d6b36",
   "metadata": {},
   "outputs": [],
   "source": [
    "when the class access the property of another class is called inheritance.\n",
    "types 1. single inheritance\n",
    "       2.multi_level inheritance\n",
    "    3.multiple inhertiance\n",
    "    4.hierarchical inheritance\n",
    "\n",
    "ex 1.single inheritance\n",
    "      \n",
    "    parent class\n",
    "        |\n",
    "        |\n",
    "     child class\n",
    "    \n",
    "2. multi_level inheritance\n",
    "\n",
    "     class A\n",
    "      |\n",
    "      |\n",
    "     class B\n",
    "      |\n",
    "      |\n",
    "     class C\n",
    "    \n",
    "    \n",
    "3. multi inheritance\n",
    "\n",
    "    animal kingdom\n",
    "       |\n",
    "     bird\n",
    "       |\n",
    "   sparrow\n",
    "\n",
    "4. hierachical inheritance\n",
    "     \n",
    "    animals\n",
    "      |\n",
    "cats dogs lions"
   ]
  },
  {
   "cell_type": "markdown",
   "id": "b89c1206-7040-4863-9ac6-751c38658c38",
   "metadata": {},
   "source": [
    "single inheritance ex"
   ]
  },
  {
   "cell_type": "code",
   "execution_count": 7,
   "id": "79681f85-e4b8-4ba2-9bff-6539186d38e6",
   "metadata": {},
   "outputs": [],
   "source": [
    "class test:\n",
    "    \n",
    "    def test_meth(self):\n",
    "        return\"this is my fev class\"\n",
    "        "
   ]
  },
  {
   "cell_type": "code",
   "execution_count": 10,
   "id": "744d3543-30a2-4d90-9098-71d5c7e2c0b7",
   "metadata": {},
   "outputs": [],
   "source": [
    "class childtest(test):\n",
    "    pass\n",
    "        "
   ]
  },
  {
   "cell_type": "code",
   "execution_count": 11,
   "id": "9fd3e66c-b3d6-4931-b462-76dbc05d7e3a",
   "metadata": {},
   "outputs": [],
   "source": [
    "child_test_obj=childtest()"
   ]
  },
  {
   "cell_type": "code",
   "execution_count": 12,
   "id": "07076a0c-b482-4be3-b0f0-9f06b845f323",
   "metadata": {},
   "outputs": [
    {
     "data": {
      "text/plain": [
       "'this is my fev class'"
      ]
     },
     "execution_count": 12,
     "metadata": {},
     "output_type": "execute_result"
    }
   ],
   "source": [
    "child_test_obj.test_meth()"
   ]
  },
  {
   "cell_type": "markdown",
   "id": "32716276-a8cf-4308-97a0-977e74ae144e",
   "metadata": {},
   "source": [
    "multilevel inheritance example"
   ]
  },
  {
   "cell_type": "code",
   "execution_count": 17,
   "id": "39b9f5ef-8261-4fe1-bfae-66ec99a92722",
   "metadata": {},
   "outputs": [],
   "source": [
    "class class1:\n",
    "    def test_class1(self):\n",
    "        return \"this is meth from class1\"\n",
    "    "
   ]
  },
  {
   "cell_type": "code",
   "execution_count": 16,
   "id": "1a19c71f-f23f-4514-a75b-2c8e1ccdd150",
   "metadata": {},
   "outputs": [],
   "source": [
    "class class2(class1):\n",
    "    def test_class2(self):\n",
    "        return \"this is meth from class2\""
   ]
  },
  {
   "cell_type": "code",
   "execution_count": 18,
   "id": "c1e18c39-b320-498f-b371-4507361ccaf2",
   "metadata": {},
   "outputs": [
    {
     "data": {
      "text/plain": [
       "'this is meth from class1'"
      ]
     },
     "execution_count": 18,
     "metadata": {},
     "output_type": "execute_result"
    }
   ],
   "source": [
    "class class3(class2):\n",
    "    pass\n",
    "obj_class3=class3()\n",
    "obj_class3.test_class1()"
   ]
  },
  {
   "cell_type": "code",
   "execution_count": 19,
   "id": "ca861b22-ed49-4e32-9ea1-8f237c40f58e",
   "metadata": {},
   "outputs": [
    {
     "data": {
      "text/plain": [
       "'this is meth from class2'"
      ]
     },
     "execution_count": 19,
     "metadata": {},
     "output_type": "execute_result"
    }
   ],
   "source": [
    "obj_class3=class3()\n",
    "obj_class3.test_class2()"
   ]
  },
  {
   "cell_type": "markdown",
   "id": "c33ba28e-9d0e-4640-9d94-810c09b7f8be",
   "metadata": {},
   "source": [
    "multiple inheritance example"
   ]
  },
  {
   "cell_type": "code",
   "execution_count": 20,
   "id": "a0fb0a3e-fa55-44cf-9e88-c9357669c75c",
   "metadata": {},
   "outputs": [],
   "source": [
    "class class1:\n",
    "    def test_class1(self):\n",
    "        return \"this is my car\"\n",
    "    "
   ]
  },
  {
   "cell_type": "code",
   "execution_count": 21,
   "id": "41a91b1e-209b-456d-ae49-fe59ea3cd088",
   "metadata": {},
   "outputs": [],
   "source": [
    "class class2:\n",
    "    def test_class2(self):\n",
    "        return \"this is my palace\""
   ]
  },
  {
   "cell_type": "code",
   "execution_count": 22,
   "id": "5b3b74b9-c7b0-4578-b055-bdd86a9b6052",
   "metadata": {},
   "outputs": [],
   "source": [
    "class class3(class1 , class2):\n",
    "    pass"
   ]
  },
  {
   "cell_type": "code",
   "execution_count": 23,
   "id": "5b1825bb-f8ec-4639-ae46-901b7ed24d2a",
   "metadata": {},
   "outputs": [],
   "source": [
    "obj_class3=class3()"
   ]
  },
  {
   "cell_type": "code",
   "execution_count": 24,
   "id": "cfa755a4-7824-42a1-be90-26103813608f",
   "metadata": {},
   "outputs": [
    {
     "data": {
      "text/plain": [
       "'this is my car'"
      ]
     },
     "execution_count": 24,
     "metadata": {},
     "output_type": "execute_result"
    }
   ],
   "source": [
    "obj_class3.test_class1()"
   ]
  },
  {
   "cell_type": "code",
   "execution_count": 25,
   "id": "9713d002-6e09-4b34-bff3-c5cd0dad3d3e",
   "metadata": {},
   "outputs": [
    {
     "data": {
      "text/plain": [
       "'this is my palace'"
      ]
     },
     "execution_count": 25,
     "metadata": {},
     "output_type": "execute_result"
    }
   ],
   "source": [
    "obj_class3.test_class2()"
   ]
  },
  {
   "cell_type": "markdown",
   "id": "0371e850-e258-4ff8-8003-ea0fe36f639a",
   "metadata": {},
   "source": [
    "hierarchical inheritance example"
   ]
  },
  {
   "cell_type": "code",
   "execution_count": 54,
   "id": "572be43a-475a-499c-8d2a-cc28ba55695d",
   "metadata": {},
   "outputs": [],
   "source": [
    "class father:\n",
    "    def test_class(self):\n",
    "        return \"this is my pappa\"\n",
    "    "
   ]
  },
  {
   "cell_type": "code",
   "execution_count": 55,
   "id": "365fbbe3-35e4-49ad-ac48-d3cf81c5dad2",
   "metadata": {},
   "outputs": [],
   "source": [
    "class son1(father):\n",
    "    def test_class(self):\n",
    "        return\"this is my child1\"\n",
    "    "
   ]
  },
  {
   "cell_type": "code",
   "execution_count": 56,
   "id": "1dca8ec4-f3f5-4cc8-a915-2b38ce0b7bff",
   "metadata": {},
   "outputs": [],
   "source": [
    "class son2(father):\n",
    "    def test_class(self):\n",
    "        return\"this is my child2\""
   ]
  },
  {
   "cell_type": "code",
   "execution_count": 58,
   "id": "17aee2b2-79e5-4782-af42-11ef6c5f298d",
   "metadata": {},
   "outputs": [],
   "source": [
    "s1=son1()\n",
    "s2=son2()"
   ]
  },
  {
   "cell_type": "code",
   "execution_count": 60,
   "id": "0a116a8c-395b-48be-821b-cac043e95cb8",
   "metadata": {},
   "outputs": [
    {
     "data": {
      "text/plain": [
       "'this is my child1'"
      ]
     },
     "execution_count": 60,
     "metadata": {},
     "output_type": "execute_result"
    }
   ],
   "source": [
    "s1.test_class()"
   ]
  },
  {
   "cell_type": "code",
   "execution_count": 62,
   "id": "99922c14-401a-42c9-9a32-a65c921b822e",
   "metadata": {},
   "outputs": [
    {
     "data": {
      "text/plain": [
       "'this is my child2'"
      ]
     },
     "execution_count": 62,
     "metadata": {},
     "output_type": "execute_result"
    }
   ],
   "source": [
    "s2.test_class()"
   ]
  },
  {
   "cell_type": "code",
   "execution_count": null,
   "id": "46ecbb99-5ff4-4161-aa41-094cf66de74e",
   "metadata": {},
   "outputs": [],
   "source": [
    "obj.=class"
   ]
  }
 ],
 "metadata": {
  "kernelspec": {
   "display_name": "Python 3 (ipykernel)",
   "language": "python",
   "name": "python3"
  },
  "language_info": {
   "codemirror_mode": {
    "name": "ipython",
    "version": 3
   },
   "file_extension": ".py",
   "mimetype": "text/x-python",
   "name": "python",
   "nbconvert_exporter": "python",
   "pygments_lexer": "ipython3",
   "version": "3.10.8"
  }
 },
 "nbformat": 4,
 "nbformat_minor": 5
}
